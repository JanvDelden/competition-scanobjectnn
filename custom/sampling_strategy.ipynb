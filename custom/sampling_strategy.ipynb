{
 "cells": [
  {
   "cell_type": "markdown",
   "metadata": {},
   "source": [
    "# Preparation"
   ]
  },
  {
   "cell_type": "code",
   "execution_count": null,
   "metadata": {},
   "outputs": [],
   "source": [
    "from plot import explore, patches_format\n",
    "import numpy as np\n",
    "import faiss\n",
    "import torch\n",
    "%cd ..\n",
    "import plotly.io as pio\n",
    "pio.renderers.default = \"browser\"\n",
    "#pio.renderers.default = \"jupyterlab\"\n",
    "from sklearn.neighbors import NearestNeighbors\n",
    "import time\n",
    "from torchvision import transforms"
   ]
  },
  {
   "cell_type": "code",
   "execution_count": null,
   "metadata": {},
   "outputs": [],
   "source": [
    "def process(ref, query, n_neighbors=32):\n",
    "    knn = NearestNeighbors(n_neighbors=n_neighbors)\n",
    "    knn.fit(ref) \n",
    "    val = knn.kneighbors(query, return_distance=False)\n",
    "    return val\n",
    "\n",
    "def get_moments(centers):\n",
    "    if len(centers.shape) == 3:\n",
    "        centers = centers[0]\n",
    "    if isinstance(centers, torch.Tensor):\n",
    "        centers = centers.numpy()\n",
    "    dist = np.linalg.norm((np.expand_dims(centers, 0) - np.expand_dims(centers, 1)), axis=2)\n",
    "    idx = np.nonzero(dist == 0)\n",
    "    dist[idx] = 99\n",
    "    print(\"min distance:\", np.min(np.min(dist, axis=1)))\n",
    "    print(\"mean distance:\", np.mean(np.min(dist, axis=1)))\n",
    "    return dist, centers\n",
    "\n",
    "def get_dist(centers):\n",
    "    if len(centers.shape) == 3:\n",
    "        centers = centers[0]\n",
    "    if isinstance(centers, torch.Tensor):\n",
    "        centers = centers.numpy()\n",
    "    dist = np.linalg.norm((np.expand_dims(centers, 0) - np.expand_dims(centers, 1)), axis=2)\n",
    "    idx = np.nonzero(dist == 0)\n",
    "    dist[idx] = 99\n",
    "    min_distance = np.min(np.min(dist, axis=1))\n",
    "    mean_distance = np.mean(np.min(dist, axis=1))\n",
    "    #print(\"mean distance:\", np.mean(np.min(dist, axis=1)))\n",
    "    #print(\"mean distance:\", np.mean(np.mean(dist, axis=1)))\n",
    "    return min_distance, mean_distance\n",
    "    \n",
    "import pandas as pd\n",
    "# get the number of point IN not out\n",
    "def get_no_leftout(output):\n",
    "    assert output.shape[1] == 3\n",
    "    output = pd.DataFrame(output).drop_duplicates()\n",
    "    return len(output)\n",
    "\n",
    "def get_leftout(input, output):\n",
    "    assert output.shape[1] == 3\n",
    "    assert input.shape[1] == 3\n",
    "\n",
    "    input = pd.DataFrame(input).drop_duplicates()\n",
    "    output = pd.DataFrame(output).drop_duplicates()\n",
    "\n",
    "    combined_dfs = pd.concat([input, output])\n",
    "    symmetric_difference = combined_dfs.drop_duplicates(keep=False)\n",
    "\n",
    "    return symmetric_difference.to_numpy()\n",
    "\n"
   ]
  },
  {
   "cell_type": "code",
   "execution_count": null,
   "metadata": {},
   "outputs": [],
   "source": [
    "import utils.parser as parser\n",
    "from utils.config import *\n",
    "import tools.builder as builder\n",
    "\n",
    "#argv = [\"--config\", \"cfgs/pretraining/pretrain64.yaml\"]\n",
    "#argv = [\"--config\", \"cfgs/segmentation/offset.yaml\"]\n",
    "argv = [\"--config\", \"cfgs/pretraining/only_shapenet_pretrain.yaml\"]\n",
    "#argv = [\"--config\", \"cfgs/classification/cls_treeset_fewshot.yaml\"]\n",
    "#argv = [\"--config\", \"cfgs/classification/scanobject_hardest.yaml\"]\n",
    "#argv = [\"--config\", \"cfgs/classification/modelnet.yaml\"]\n",
    "args = parser.get_args(argv)\n",
    "config = get_config(args)\n",
    "args.distributed = False\n",
    "args.task = \"cls\"\n",
    "args.sampling_method = \"kmeans\"\n",
    "config.model.mask_type = \"rand\"\n",
    "config.dataset.test.others.model = config.model\n",
    "config.dataset.test.others.bs = 1\n",
    "print(config.dataset.test)\n"
   ]
  },
  {
   "cell_type": "code",
   "execution_count": null,
   "metadata": {},
   "outputs": [],
   "source": [
    "_, loader = builder.dataset_builder(args, config.dataset.test)\n",
    "dataset = loader.dataset\n",
    "dataset.center = False"
   ]
  },
  {
   "cell_type": "markdown",
   "metadata": {},
   "source": [
    "# Test on dataset"
   ]
  },
  {
   "cell_type": "code",
   "execution_count": null,
   "metadata": {},
   "outputs": [],
   "source": [
    "dataset.grouper.sampling_method = \"fps\"  # \"rand\"  \"fps\" \"slice_fps\"\n",
    "dataset.transforms = transforms.Compose([])\n",
    "dataset.token_transforms = transforms.Compose([])\n",
    "n = 1000\n",
    "min_distance, mean_distance, lnout, mean_dist, NNdist = np.empty(n), np.empty(n), np.empty(n), np.empty(n), np.empty(n)\n",
    "time.sleep(2.5)\n",
    "start = time.time()\n",
    "for i in range(n):\n",
    "    #neighborhood, center, label, _, _, _, _ = dataset[i]\n",
    "    neighborhood, center, label = dataset[i]\n",
    "    min_distance[i], mean_distance[i] = get_dist(center)\n",
    "    sample = neighborhood.reshape(-1, 3)\n",
    "    lnout[i] = get_no_leftout(sample.numpy())\n",
    "end = time.time()\n",
    "missing_points = 1 - lnout/dataset.npoints\n",
    "std = np.std(missing_points) * 100\n",
    "missing_points = np.mean(missing_points) * 100\n",
    "print(f\"{missing_points:.1f} \\\\% $\\\\pm$ {std:.1f} & {np.mean(min_distance):.2f} & {np.mean(mean_distance):.2f}  & {((end - start)/n*10):.2f}\")"
   ]
  },
  {
   "cell_type": "code",
   "execution_count": null,
   "metadata": {},
   "outputs": [],
   "source": [
    "# Timing\n",
    "dataset.grouper.sampling_method = \"kmeans\"  # \"rand\"  \"fps\" \"slice_fps\"\n",
    "dataset.normalization = False\n",
    "n = 100\n",
    "min_distance, mean_distance, lnout = np.empty(n), np.empty(n), np.empty(n)\n",
    "start = time.time()\n",
    "for i in range(n):\n",
    "    neighborhood, center, mask = dataset[i]\n",
    "end = time.time()\n",
    "\n",
    "print(f\"{((end - start)/10):.3f}\")"
   ]
  }
 ],
 "metadata": {
  "kernelspec": {
   "display_name": "Python 3.7.0 64-bit",
   "language": "python",
   "name": "python3"
  },
  "language_info": {
   "codemirror_mode": {
    "name": "ipython",
    "version": 3
   },
   "file_extension": ".py",
   "mimetype": "text/x-python",
   "name": "python",
   "nbconvert_exporter": "python",
   "pygments_lexer": "ipython3",
   "version": "3.7.0"
  },
  "orig_nbformat": 4,
  "vscode": {
   "interpreter": {
    "hash": "00161b65f4bc80da0780f3897ff3169c7001edac6346be02133c1aa8f4f896a9"
   }
  }
 },
 "nbformat": 4,
 "nbformat_minor": 2
}
